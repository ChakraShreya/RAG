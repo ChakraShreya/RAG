{
 "cells": [
  {
   "cell_type": "code",
   "execution_count": 1,
   "id": "dbb388e5-48e0-4287-87f6-d2499897b813",
   "metadata": {},
   "outputs": [],
   "source": [
    "%%capture \n",
    "!pip install langchain openai\n",
    "!pip install -q -U faiss-cpu tiktoken"
   ]
  },
  {
   "cell_type": "code",
   "execution_count": 1,
   "id": "a82101f4-cb60-4c84-976f-0e50df1a87b7",
   "metadata": {},
   "outputs": [],
   "source": [
    "import os \n",
    "import getpass"
   ]
  },
  {
   "cell_type": "code",
   "execution_count": 3,
   "id": "529f16f3-cd19-44d2-854b-c291890edac5",
   "metadata": {},
   "outputs": [
    {
     "name": "stdin",
     "output_type": "stream",
     "text": [
      "API KEY:  ········\n"
     ]
    }
   ],
   "source": [
    "os.environ[\"OPENAI_API_KEY\"]= getpass.getpass(\"API KEY: \")"
   ]
  },
  {
   "cell_type": "markdown",
   "id": "f63d0ada-38f7-4886-81d0-088108632e04",
   "metadata": {},
   "source": [
    "Index System"
   ]
  },
  {
   "cell_type": "markdown",
   "id": "6ed2a401-1b82-4a8e-b8f7-561e6d339824",
   "metadata": {},
   "source": [
    "Load Documents"
   ]
  },
  {
   "cell_type": "code",
   "execution_count": 4,
   "id": "a1bc08da-1bef-416d-b4c8-7ac013726542",
   "metadata": {},
   "outputs": [],
   "source": [
    "from langchain.document_loaders import WebBaseLoader\n",
    "\n",
    "yolo_nas_loader=WebBaseLoader(\"https://deci.ai/blog/yolo-nas-object-detection-foundation-model/\").load()\n",
    "\n",
    "decicoder_loader= WebBaseLoader(\"https://deci.ai/blog/decicoder-efficient-and-accurate-code-generation-llm/#:~:text=DeciCoder's%20unmatched%20throughput%20and%20low,re%20obsessed%20with%20AI%20efficiency.\").load()\n",
    "\n",
    "yolo_newsletter_loader=WebBaseLoader(\"https://deeplearningdaily.substack.com/p/unleashing-the-power-of-yolo-nas\").load()"
   ]
  },
  {
   "cell_type": "markdown",
   "id": "71f7367d-695e-43cc-b70f-d829b7d2c762",
   "metadata": {},
   "source": [
    "Chunk Documents"
   ]
  },
  {
   "cell_type": "code",
   "execution_count": 6,
   "id": "20832365-b2c2-4d57-9b25-33a60ce8729f",
   "metadata": {},
   "outputs": [],
   "source": [
    "from langchain.text_splitter import RecursiveCharacterTextSplitter\n",
    "\n",
    "text_splitter = RecursiveCharacterTextSplitter( chunk_size=500, chunk_overlap=50, length_function=len)\n",
    "\n",
    "yolo_nas_chunks=text_splitter.transform_documents(yolo_nas_loader)\n",
    "decicoder_chunks = text_splitter.transform_documents(decicoder_loader)\n",
    "yolo_newsletter_chunks = text_splitter.transform_documents(yolo_newsletter_loader)"
   ]
  },
  {
   "cell_type": "markdown",
   "id": "aeac3fff-ddb4-463a-906f-634f2c0d8cfa",
   "metadata": {},
   "source": [
    "Create Index"
   ]
  },
  {
   "cell_type": "code",
   "execution_count": 8,
   "id": "236e08ab-55c0-4481-8b73-6fd86a3cc683",
   "metadata": {},
   "outputs": [],
   "source": [
    "from langchain.embeddings.openai import OpenAIEmbeddings\n",
    "from langchain.embeddings import CacheBackedEmbeddings\n",
    "from langchain.vectorstores import FAISS\n",
    "from langchain.storage import LocalFileStore\n",
    "\n",
    "store=LocalFileStore(\"./cache/\")\n",
    "\n",
    "#create embedder\n",
    "core_embeddings_model= OpenAIEmbeddings()\n",
    "\n",
    "embedder = CacheBackedEmbeddings.from_bytes_store(\n",
    "    core_embeddings_model,\n",
    "    store,\n",
    "    namespace=core_embeddings_model.model\n",
    ")\n",
    "\n",
    "#store embeddings in vector store\n",
    "vectorstore = FAISS.from_documents(yolo_nas_chunks,embedder)\n",
    "vectorstore.add_documents(decicoder_chunks)\n",
    "vectorstore.add_documents(yolo_newsletter_chunks)\n",
    "\n",
    "#instantiate a retriever\n",
    "retriever= vectorstore.as_retriever()"
   ]
  },
  {
   "cell_type": "markdown",
   "id": "ae3cead0-fd6c-4336-b766-f0b066296c14",
   "metadata": {},
   "source": [
    "Retrieval System"
   ]
  },
  {
   "cell_type": "code",
   "execution_count": 9,
   "id": "14d8a6bc-6016-4c84-aba7-4e2e4ce3b561",
   "metadata": {},
   "outputs": [],
   "source": [
    "from langchain_community.chat_models import ChatOpenAI"
   ]
  },
  {
   "cell_type": "code",
   "execution_count": 10,
   "id": "ef25abcd-80d8-4a11-a9c2-e011d90686a0",
   "metadata": {},
   "outputs": [],
   "source": [
    "from langchain.chains import RetrievalQA\n",
    "from langchain.callbacks import StdOutCallbackHandler"
   ]
  },
  {
   "cell_type": "code",
   "execution_count": 11,
   "id": "9abc444b-f977-44ec-a261-b8269bc2b4f9",
   "metadata": {},
   "outputs": [],
   "source": [
    "llm=ChatOpenAI(temperature=0)\n",
    "handler = StdOutCallbackHandler()"
   ]
  },
  {
   "cell_type": "code",
   "execution_count": 12,
   "id": "fcd2dde7-ae08-415b-a1eb-279b4385b137",
   "metadata": {},
   "outputs": [],
   "source": [
    "qa_with_sources_chain= RetrievalQA.from_chain_type(\n",
    "    llm=llm,\n",
    "    retriever=retriever,\n",
    "    callbacks=[handler],\n",
    "    return_source_documents=True\n",
    ")"
   ]
  },
  {
   "cell_type": "markdown",
   "id": "91fadc55-206d-456a-8d32-769f45848359",
   "metadata": {},
   "source": [
    "Augment System"
   ]
  },
  {
   "cell_type": "code",
   "execution_count": 13,
   "id": "ed510cc1-bfab-4e0a-98dd-4502b9d4d24c",
   "metadata": {},
   "outputs": [
    {
     "name": "stdout",
     "output_type": "stream",
     "text": [
      "\n",
      "\n",
      "\u001b[1m> Entering new RetrievalQA chain...\u001b[0m\n",
      "\n",
      "\u001b[1m> Finished chain.\u001b[0m\n"
     ]
    }
   ],
   "source": [
    "response = qa_with_sources_chain({\"query\":\"What does Neural Architecture Search have to do with how Deci creates its models?\"})"
   ]
  },
  {
   "cell_type": "code",
   "execution_count": 14,
   "id": "a5bcc3e3-02db-4d25-ab61-14b1ec2f3f9f",
   "metadata": {},
   "outputs": [
    {
     "name": "stdout",
     "output_type": "stream",
     "text": [
      "Deci uses Neural Architecture Search (NAS) technology to create its models. NAS automates the process of developing neural network architectures by intelligently searching a vast space of possible architectures. Deci's proprietary NAS technology, called AutoNAC, is used to generate innovative elements of architecture for models like DeciCoder. This allows Deci to create efficient and high-performing models that surpass other models in terms of accuracy and speed. In the case of YOLO-NAS, Deci's researchers took inspiration from existing YOLOv6 and YOLOv8 architectures and used AutoNAC to search for the best architectures within the defined search space.\n"
     ]
    }
   ],
   "source": [
    "print(response['result'])"
   ]
  },
  {
   "cell_type": "code",
   "execution_count": 15,
   "id": "d459a97c-baa9-450a-8927-c40fe40db519",
   "metadata": {},
   "outputs": [
    {
     "name": "stdout",
     "output_type": "stream",
     "text": [
      "\n",
      "\n",
      "\u001b[1m> Entering new RetrievalQA chain...\u001b[0m\n",
      "\n",
      "\u001b[1m> Finished chain.\u001b[0m\n"
     ]
    }
   ],
   "source": [
    "response = qa_with_sources_chain({\"query\":\"What is DeciCoder\"})"
   ]
  },
  {
   "cell_type": "raw",
   "id": "67d283dd-b185-4f6d-bfc8-4a127a60f81c",
   "metadata": {},
   "source": [
    "print(response)"
   ]
  },
  {
   "cell_type": "code",
   "execution_count": 16,
   "id": "44c60214-ec88-4ecc-90bb-b346bb1a30a6",
   "metadata": {},
   "outputs": [
    {
     "name": "stdout",
     "output_type": "stream",
     "text": [
      "DeciCoder is an open-source Large Language Model (LLM) developed by Deci. It is designed for code generation and has 1 billion parameters. DeciCoder has a 2048-context window, which allows it to consider a larger context when generating code. It offers improved throughput, accuracy, and memory usage compared to other widely-used code generation LLMs like SantaCoder. DeciCoder has been trained on a large dataset of permissively-licensed source code from various programming languages, including Python, Java, and Javascript. It can be used for commercial applications and is ready for deployment.\n"
     ]
    }
   ],
   "source": [
    "print(response['result'])"
   ]
  },
  {
   "cell_type": "code",
   "execution_count": 17,
   "id": "75b5d38d-1114-4f5f-b4a5-d3d45040c03d",
   "metadata": {},
   "outputs": [
    {
     "name": "stdout",
     "output_type": "stream",
     "text": [
      "\n",
      "\n",
      "\u001b[1m> Entering new RetrievalQA chain...\u001b[0m\n",
      "\n",
      "\u001b[1m> Finished chain.\u001b[0m\n"
     ]
    }
   ],
   "source": [
    "response = qa_with_sources_chain({\"query\":\"Write a blog about Deci and how it used NAS to generate YOLO-NAS and DeciCoder\"})"
   ]
  },
  {
   "cell_type": "code",
   "execution_count": 18,
   "id": "12420a9a-150c-4ec2-ac4c-38022d9b9aad",
   "metadata": {},
   "outputs": [
    {
     "name": "stdout",
     "output_type": "stream",
     "text": [
      "Title: Deci's Breakthrough: Unleashing the Power of NAS with YOLO-NAS and DeciCoder\n",
      "\n",
      "Introduction:\n",
      "In the ever-evolving field of artificial intelligence, Deci has emerged as a trailblazer, pushing the boundaries of accuracy and efficiency in object detection. Through their innovative use of Neural Architecture Search (NAS), Deci has introduced two groundbreaking models - YOLO-NAS and DeciCoder. These models have not only revolutionized the field but also opened up new possibilities across various industries and research domains.\n",
      "\n",
      "Deci's Edge:\n",
      "Deci's journey towards excellence began with their robust capabilities showcased by DeciCoder, which consistently outperformed models like SantaCoder. This achievement was made possible through their pioneering use of AutoNAC, a compute-efficient method that generates NAS-generated algorithms. By leveraging AutoNAC, Deci was able to create architectures that are both efficient and powerful, setting them apart from the competition.\n",
      "\n",
      "YOLO-NAS: A Benchmark for Object Detection:\n",
      "One of Deci's most significant achievements is the development of YOLO-NAS, a state-of-the-art object detection model. YOLO-NAS stands for \"You Only Look Once - Neural Architecture Search,\" and it represents a significant leap forward in the field. By utilizing AutoNAC, Deci was able to find the optimal architecture that strikes the perfect balance between accuracy and inference speed. This breakthrough has set a new benchmark for object detection, driving innovation and unlocking new possibilities in various industries.\n",
      "\n",
      "DeciCoder: Superiority Redefined:\n",
      "Deci's expertise in NAS also led to the creation of DeciCoder, a model that has consistently outperformed its counterparts. By harnessing the power of AutoNAC, DeciCoder achieves unparalleled accuracy and efficiency in tasks such as question answering. DeciCoder's success is a testament to Deci's commitment to pushing the boundaries of what is possible in AI models.\n",
      "\n",
      "The Power of NAS:\n",
      "Neural Architecture Search has become a game-changer in the field of AI. By automating the process of designing architectures, NAS allows researchers and developers to focus on optimizing performance and efficiency. Deci's innovative use of NAS, particularly through AutoNAC, has revolutionized the way models are created, enabling them to achieve groundbreaking results in object detection and other domains.\n",
      "\n",
      "Driving Innovation and Collaboration:\n",
      "Deci's achievements with YOLO-NAS and DeciCoder have not only propelled them to the forefront of the AI industry but have also fostered collaboration and innovation. Their breakthroughs have inspired researchers, developers, and industry professionals to explore new possibilities and push the boundaries of what is achievable in AI.\n",
      "\n",
      "Conclusion:\n",
      "Deci's utilization of Neural Architecture Search, particularly through their innovative AutoNAC approach, has resulted in the creation of groundbreaking models like YOLO-NAS and DeciCoder. These models have not only set new benchmarks for accuracy and efficiency but have also driven innovation and collaboration across various industries. Deci's commitment to pushing the boundaries of AI continues to unlock new possibilities and shape the future of the field.\n"
     ]
    }
   ],
   "source": [
    "print(response['result'])"
   ]
  },
  {
   "cell_type": "code",
   "execution_count": null,
   "id": "63811403-760b-41e7-b32a-b1c165408c08",
   "metadata": {},
   "outputs": [],
   "source": []
  },
  {
   "cell_type": "code",
   "execution_count": null,
   "id": "a52cda7b-91d6-47a7-b76c-1b2053cd0f0b",
   "metadata": {},
   "outputs": [],
   "source": []
  }
 ],
 "metadata": {
  "kernelspec": {
   "display_name": "Python 3 (ipykernel)",
   "language": "python",
   "name": "python3"
  },
  "language_info": {
   "codemirror_mode": {
    "name": "ipython",
    "version": 3
   },
   "file_extension": ".py",
   "mimetype": "text/x-python",
   "name": "python",
   "nbconvert_exporter": "python",
   "pygments_lexer": "ipython3",
   "version": "3.10.9"
  }
 },
 "nbformat": 4,
 "nbformat_minor": 5
}
